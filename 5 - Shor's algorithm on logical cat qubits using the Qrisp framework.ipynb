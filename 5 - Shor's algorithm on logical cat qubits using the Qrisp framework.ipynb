{
 "cells": [
  {
   "cell_type": "markdown",
   "id": "ebe8e678",
   "metadata": {},
   "source": [
    "# Shor's algorithm on logical cat qubits using the Qrisp framework\n",
    "\n",
    "This tutorial will walk you through the implementation of the famous Shor's algorithm for prime factoring using Qrisp on the Alice&Bob's Qiskit Provider.\n",
    "\n",
    "### Why Shor's prime factoring algorithm?\n",
    "\n",
    "A fair question is to ask why it is of any interest to implement Shor's algorithm and run it with a noise model. It all boils down to the quantum advantage that is provided by the quantum algorithm: the current state-of-the-art classical algorithm for prime factoring is the [general number field sieve](https://en.wikipedia.org/wiki/General_number_field_sieve) (GNFS) which, under some assumptions, achieves the prime factoring of an integer in super-polynomial but sub-exponential time. On the contrary, Shor's algorithm promises a polynomial time to achieve the same task. Equivalently said, Shor's algorithm assures a superpolynomial speedup when compared with a classical algorithm.\n",
    "Published in 1994 by Peter Shor, Shor's algorithm shook the field of theoretical computer science, giving a glance of how powerful quantum computation could be. The implications of successfully running the Shor's algorithm on an actual machine are several, but let's just cite the most hype-generating one: the security of the popular RSA cryptosystem is based on the assumption that prime factorization is computationally hard. Well, that's no longer true with Shor's algorithm.\n",
    "\n",
    "### Why Cat Qubits?\n",
    "\n",
    "However, we are far from running the algorithm efficiently on a quantum computer, since qubits and operations between them are noisy; at the moment, the information stored in the real hardware is completaly lost after few operations. People in the field are frenatically trying to solve this problem by designing new and more efficient [quantum error correction codes](https://en.wikipedia.org/wiki/Quantum_error_correction) that are supposed to detect and correct errors. In the quantum realm, the errors on a elementary piece of information are bidimensional: you can have bit-flips ( $|0\\rangle \\leftrightarrow |1\\rangle$ ) and phase-flips ( $|+\\rangle \\leftrightarrow |-\\rangle$ ). Luckily, there exists a technology that is able to take care of one source of error, by exponentially subpressing the bit-flip rate, virtually allowing to exclusively deal with the other type of error: the cat qubits architecture. We have a whole [series of tutorial](https://github.com/Alice-Bob-SW/emulation-examples/blob/main/0%20-%20An%20introduction%20to%20cat%20qubits.ipynb) if you want to know more about it.\n",
    "\n",
    "Shor's algorithm requires considerably low error rates to give proper results - we will talk about numbers in a following section, when we will do a sketch of the resource estimation of the algorithm - and therefore error correction is needed. Cat qubits are best suited for this goal for their outstanding characteristics so let's simulate their behaviour to solve the problem.\n",
    "\n",
    "### Why Qrisp?\n",
    "\n",
    "Qrisp is a high-level programming language for creating and compiling quantum algorithms which features numerous characteristics to smooth the workflow when writing and executing a quantum algorithm.\n",
    "If you want to get familiar with the Qrisp framework, have a look at the dedicated [series of tutorials](https://qrisp.eu/general/tutorial/index.html) available on Qrisp's website.\n",
    "\n",
    "Qrisp provides compatibility with Qiskit's framework and it is possible to run Qrisp code directly on the Qiskit's backend making use of the `VirtualQiskitBackend`. This allows us to instantiate the emulator using the [Alice & Bob Qiskit Provider](https://alice-bob.notion.site/Alice-Bob-Felis-documentation-52e554ccbea54e34831761f083883e49?pvs=4) as backend and run the code on a cat qubits architechture."
   ]
  },
  {
   "cell_type": "code",
   "execution_count": null,
   "id": "3d4d3e3d",
   "metadata": {},
   "outputs": [],
   "source": [
    "import math\n",
    "import random\n",
    "import numpy as np\n",
    "import qrisp\n",
    "import qiskit\n",
    "from qrisp.interface import VirtualQiskitBackend\n",
    "from qiskit_alice_bob_provider.local.provider import AliceBobLocalProvider"
   ]
  },
  {
   "cell_type": "code",
   "execution_count": null,
   "id": "3a32e67d-f628-4f47-a945-b44a342cd6ac",
   "metadata": {},
   "outputs": [],
   "source": [
    "provider = AliceBobLocalProvider()\n",
    "backend = provider.get_backend(\"EMU:40Q:LOGICAL_TARGET\")\n",
    "vrtl_qasm_sim = VirtualQiskitBackend(backend)"
   ]
  },
  {
   "cell_type": "markdown",
   "id": "c38e52c5",
   "metadata": {},
   "source": [
    "We would like to perform the trivial task of prime factoring the number $15$. Everybody knows that $5\\times3 = 15$, but sometimes is better to double-check - or triple-check, as in this case.\n",
    "\n",
    "Let's start by comparing a classical brute-force period finding algorithm with its quantum counterpart and analyse their performances."
   ]
  },
  {
   "cell_type": "markdown",
   "id": "6a4ca5aa",
   "metadata": {},
   "source": [
    "#### Classical brute-force period finding\n"
   ]
  },
  {
   "cell_type": "code",
   "execution_count": null,
   "id": "5c9f3942",
   "metadata": {},
   "outputs": [],
   "source": [
    "def is_prime(n):\n",
    "    if n <= 1:\n",
    "        return False\n",
    "    elif n <= 3:\n",
    "        return True\n",
    "    elif n % 2 == 0 or n % 3 == 0:\n",
    "        return False\n",
    "    i = 5\n",
    "    while i * i <= n:\n",
    "        if n % i == 0 or n % (i + 2) == 0:\n",
    "            return False\n",
    "        i += 6\n",
    "    return True\n",
    "\n",
    "\n",
    "def find_period_classical(g, N):\n",
    "    # returns the period of g in Z_N\n",
    "    e = 1\n",
    "    while pow(g, e, N) != 1:\n",
    "        e = e + 1\n",
    "    return e\n",
    "\n",
    "\n",
    "def classical_Shor(N):\n",
    "    # returns the factors of N by using Shor's algorithm\n",
    "    # with a classical brute-force period finding routine\n",
    "    if N % 2 == 0:\n",
    "        return (2, N // 2)\n",
    "    if is_prime(N):\n",
    "        return (1, N)\n",
    "\n",
    "    while True:\n",
    "        a = random.randint(2, N - 1)\n",
    "        if math.gcd(a, N) != 1:\n",
    "            return sorted([math.gcd(a, N), N // math.gcd(a, N)])\n",
    "\n",
    "        r = find_period_classical(a, N)\n",
    "\n",
    "        if r % 2 == 0:\n",
    "            x = pow(a, r // 2, N)\n",
    "            p = math.gcd(x - 1, N)\n",
    "            q = math.gcd(x + 1, N)\n",
    "            if p != 1 and p != N:\n",
    "                return sorted([p, N // p])\n",
    "            if q != 1 and q != N:\n",
    "                return sorted([q, N // q])"
   ]
  },
  {
   "cell_type": "code",
   "execution_count": null,
   "id": "01f21a4b",
   "metadata": {},
   "outputs": [],
   "source": [
    "classical_Shor(15)"
   ]
  },
  {
   "cell_type": "markdown",
   "id": "a0d13a57",
   "metadata": {},
   "source": [
    "The factorisation of 15 only requires small fractions of a second to be achieved with the brute-force algorithm."
   ]
  },
  {
   "cell_type": "markdown",
   "id": "ce4d5d33",
   "metadata": {},
   "source": [
    "#### Quantum Period finding\n"
   ]
  },
  {
   "cell_type": "code",
   "execution_count": null,
   "id": "9662c206-a627-4a79-b3e8-0abe336f9140",
   "metadata": {},
   "outputs": [],
   "source": [
    "from sympy import continued_fraction_convergents, continued_fraction_iterator, Rational\n",
    "\n",
    "\n",
    "def get_r_candidates(approx):\n",
    "    rationals = continued_fraction_convergents(\n",
    "        continued_fraction_iterator(Rational(approx))\n",
    "    )\n",
    "    return [rat.q for rat in rationals]"
   ]
  },
  {
   "cell_type": "code",
   "execution_count": null,
   "id": "81e211ed",
   "metadata": {},
   "outputs": [],
   "source": [
    "def get_phase_candidates(a, N):\n",
    "    qg = qrisp.QuantumModulus(N)\n",
    "    qg[:] = 1\n",
    "    qpe_res = qrisp.QuantumFloat(2 * qg.size + 1, exponent=-(2 * qg.size + 1))\n",
    "    qrisp.h(qpe_res)\n",
    "    x = a\n",
    "    for i in range(len(qpe_res)):\n",
    "        with qrisp.control(qpe_res[i]):\n",
    "            qg *= x\n",
    "            x = (x * x) % N\n",
    "    qrisp.QFT(qpe_res, inv=True)\n",
    "    qiskit_qc = qpe_res.qs.compile().to_qiskit()\n",
    "    # Compile the circuit to qiskit for technical limitations\n",
    "    # of the qrisp framework.\n",
    "    cr = qiskit.ClassicalRegister(len(qpe_res))\n",
    "    qiskit_qc.add_register(cr)\n",
    "    qiskit_qc.measure(range(len(qg), len(qpe_res) + len(qg)), range(len(cr)))\n",
    "    results = qiskit.execute(qiskit_qc, backend=backend, shots=5).result().get_counts()\n",
    "    return results"
   ]
  },
  {
   "cell_type": "code",
   "execution_count": null,
   "id": "5c03bb89",
   "metadata": {},
   "outputs": [],
   "source": [
    "def binary_to_float(binaries):\n",
    "    # Convert binary string to floating-point decimal\n",
    "    results = []\n",
    "    for binary in binaries:\n",
    "        decimal = 0\n",
    "        for i, bit in enumerate(binary):\n",
    "            if bit == \"1\":\n",
    "                decimal += 2 ** -(i + 1)\n",
    "        results.append(decimal)\n",
    "    return results"
   ]
  },
  {
   "cell_type": "code",
   "execution_count": null,
   "id": "6934c408",
   "metadata": {},
   "outputs": [],
   "source": [
    "def quantum_shor(a, N):\n",
    "    meas_res = get_phase_candidates(a, N)\n",
    "    r_candidates = sum(\n",
    "        [get_r_candidates(approx) for approx in binary_to_float(meas_res.keys())], []\n",
    "    )\n",
    "    for cand in sorted(set(r_candidates)):\n",
    "        if (a**cand) % N == 1:\n",
    "            r = cand\n",
    "            break\n",
    "    else:\n",
    "        raise Exception(\n",
    "            \"Could not find the right candidate for the period. Please try resampling.\"\n",
    "        )\n",
    "    if r % 2:\n",
    "        raise Exception(\n",
    "            \"Found an odd period for the given base. Please retry with another value of a.\"\n",
    "        )\n",
    "    p = np.gcd(a ** (r // 2) + 1, N)\n",
    "    q = int(N / p)\n",
    "    if p > q:\n",
    "        return (q, p)\n",
    "    return (p, q)"
   ]
  },
  {
   "cell_type": "code",
   "execution_count": null,
   "id": "0dee107e",
   "metadata": {},
   "outputs": [],
   "source": [
    "a = 2\n",
    "N = 15\n",
    "# WARNING: The code below takes approximatively 10 minutes to run\n",
    "quantum_shor(a, N)"
   ]
  },
  {
   "cell_type": "markdown",
   "id": "91be5b03",
   "metadata": {},
   "source": [
    "Notice that the parameter `a` is provided manually, instead of it being drawn randomly as in the classical case: this is merely due to optimisation reasons, as many runs of the algorithm are needed in order to find the proper `a`. This could take a long time to achieve!\n",
    "\n",
    "The remarkable aspect of the Qrisp framework is the compactness and simplicity of implementing a fairly complex algorithm, such as Shor's, in a few lines of code as well as the relatively high level of abstraction with respect to gate-level. This task is much more complex to achieve in Qiskit, for example. You can find either a [specific tutorial to factor 15 with an hard-coded circuit](https://github.com/qiskit-community/qiskit-community-tutorials/blob/master/algorithms/shor_algorithm.ipynb); either a [general implementation](https://github.com/Qiskit/qiskit/blob/9c8eb06984c91156eac078f3d2d73b4cf68370b4/qiskit/algorithms/factorizers/shor.py), which has become deprecated."
   ]
  },
  {
   "cell_type": "markdown",
   "id": "2b098bd5",
   "metadata": {},
   "source": [
    "### But why is it so slow?\n",
    "It takes of the order of minutes to factor $15$ with Shor's quantum algorithm.\n",
    "\n",
    "We first assume to run a noiseless classical simulation of a quantum algorithm. [Gottesman-Knill theorem](https://en.wikipedia.org/wiki/Gottesman%E2%80%93Knill_theorem) states that circuits composed of Clifford gates can be perfectly simulated in polynomial time on a probabilistic classical computer. Shor's algorithm, however, uses non-Clifford gates and, as a result, the simulation is much longer than in the classical case, in particular for small instances.\n",
    "On top of that, when adding a noise model, the number of internal operations performed by the Qiskit's backend increases noticeably the computational cost, partially inficiating sparsity assumption of matrix operations and storage.\n",
    "\n",
    "In any case, Shor's prime factoring algorithm remains to this day the simplest algorithm to provide a theoretical super-polynomial speedup (if executed on an actual quantum computer) and actually observing it at work could give great insight into the realm of quantum computation."
   ]
  },
  {
   "cell_type": "markdown",
   "id": "9a24bdac",
   "metadata": {},
   "source": [
    "## Resource Estimation\n",
    "\n",
    "Let's talk numbers now! How many logical qubits and how many operations would you need to actually solve the problem? Well, for the number of qubits it is quite easy: if $N=2^n$ is the number you want to factorize, you need n qubits to encode its binary representation and $2n +1 $ additional qubits to store the results of the operations. So for $N = 15$, the circuit has a width of 13. \n",
    "\n",
    "For the number of operations, or depth of the circuit, is a whole different story. In fact, for starters, the Qrisp implementation of the quantum period finding sub-routine requires 657 logical gate. Moreover, each of the gate needs to be transpiled into the native universal set of (logical) gates of the cat qubits architecture. This step increases the number of gates from the previous 657 to 33567!\n",
    "\n",
    "We define the quantum volume V as the product of the width and the depth of the circuit. In this case, V = 436371.\n",
    "\n",
    "Now, the logical emulator used here adds the noise model to each gate of the circuit. Suppose that the probability that an error occurs is $p$. Then the probability that no error occurs during the execution of the algorithm is $ (1 - p)^V$. We would like to find for which error rate the algorithm succeds at least $C\\%$ of the times ($0 \\leq C\\leq 1$):\n",
    "\n",
    "$$\n",
    "(1-p)^V > C\\%\n",
    "$$\n",
    "\n",
    "$$\n",
    "V ln(1-p) > ln(C/100)\n",
    "$$\n",
    "\n",
    "$$\n",
    "1- p > exp\\left(\\frac{ln(C/100)}{V}\\right)\n",
    "$$\n",
    "\n",
    "$$\n",
    "p < 1 -  exp\\left(\\frac{ln(C/100)}{V}\\right)\n",
    "$$\n"
   ]
  },
  {
   "cell_type": "markdown",
   "id": "d75b9cf5",
   "metadata": {},
   "source": [
    "### Comparing resources on the logical backends\n",
    "Let's start by estimating the resources needed to run Shor's factorization of $15$ on the `EMU:40Q:LOGICAL_TARGET`."
   ]
  },
  {
   "cell_type": "code",
   "execution_count": null,
   "id": "9d438274",
   "metadata": {},
   "outputs": [],
   "source": [
    "from qiskit_alice_bob_provider.processor.logical_cat import (\n",
    "    _logical_bit_flip_error,\n",
    "    _logical_phase_flip_error,\n",
    ")\n",
    "\n",
    "\n",
    "def logical_error_rate(distance, average_nb_photons, kappa_1, kappa_2):\n",
    "    # Returns the logical error rate for the given parameters.\n",
    "    return _logical_bit_flip_error(\n",
    "        d=distance, nbar=average_nb_photons\n",
    "    ) + _logical_phase_flip_error(\n",
    "        d=distance, nbar=average_nb_photons, k1=kappa_1, k2=kappa_2\n",
    "    )"
   ]
  },
  {
   "cell_type": "code",
   "execution_count": null,
   "id": "373b7d95",
   "metadata": {},
   "outputs": [],
   "source": [
    "def error_rate_upper_bound(V, success_rate):\n",
    "    if success_rate <= 0 or success_rate > 1:\n",
    "        raise Exception(\"The success rate should be between 0 and 1\")\n",
    "    return 1 - np.exp(np.log(success_rate) / V)"
   ]
  },
  {
   "cell_type": "code",
   "execution_count": null,
   "id": "d642eb8e",
   "metadata": {},
   "outputs": [],
   "source": [
    "a = 2\n",
    "N = 15\n",
    "qg = qrisp.QuantumModulus(N)\n",
    "qg[:] = 1\n",
    "qpe_res = qrisp.QuantumFloat(2 * qg.size + 1, exponent=-(2 * qg.size + 1))\n",
    "qrisp.h(qpe_res)\n",
    "x = a\n",
    "for i in range(len(qpe_res)):\n",
    "    with qrisp.control(qpe_res[i]):\n",
    "        qg *= x\n",
    "        x = (x * x) % N\n",
    "qrisp.QFT(qpe_res, inv=True)"
   ]
  },
  {
   "cell_type": "code",
   "execution_count": null,
   "id": "ce57445b",
   "metadata": {},
   "outputs": [],
   "source": [
    "# Parameters of the `EMU:40Q:LOGICAL_TARGET` backend\n",
    "distance = 15\n",
    "n_qubits = 40\n",
    "kappa_1 = 100\n",
    "kappa_2 = 1e7\n",
    "average_nb_photons = 19"
   ]
  },
  {
   "cell_type": "code",
   "execution_count": null,
   "id": "be8a6253",
   "metadata": {},
   "outputs": [],
   "source": [
    "qc_qiskit_TARGET = qpe_res.qs.compile().to_qiskit()"
   ]
  },
  {
   "cell_type": "code",
   "execution_count": null,
   "id": "b9f37ce5",
   "metadata": {},
   "outputs": [],
   "source": [
    "print(\"Circuit width before transpilation:\", qc_qiskit_TARGET.width())\n",
    "print(\"Circuit depth before transpilation:\", qc_qiskit_TARGET.depth())"
   ]
  },
  {
   "cell_type": "code",
   "execution_count": null,
   "id": "bd2b619a",
   "metadata": {},
   "outputs": [],
   "source": [
    "qc_qiskit_transpiled_TARGET = qiskit.transpile(qc_qiskit_TARGET, backend=backend)"
   ]
  },
  {
   "cell_type": "code",
   "execution_count": null,
   "id": "4ddd64b7",
   "metadata": {},
   "outputs": [],
   "source": [
    "print(\"Circuit width after transpilation:\", qc_qiskit_transpiled_TARGET.width())\n",
    "print(\"Circuit depth after transpilation:\", qc_qiskit_transpiled_TARGET.depth())"
   ]
  },
  {
   "cell_type": "code",
   "execution_count": null,
   "id": "15aa3977",
   "metadata": {},
   "outputs": [],
   "source": [
    "q_volume_TARGET = qc_qiskit_transpiled_TARGET.depth() * (qc_qiskit_transpiled_TARGET.width())  #width * depth of the circuit\n",
    "print('Quantum volume of the transpiled circuit:', q_volume_TARGET)"
   ]
  },
  {
   "cell_type": "code",
   "execution_count": null,
   "id": "ee6fd19d",
   "metadata": {},
   "outputs": [],
   "source": [
    "erub_TARGET = error_rate_upper_bound(q_volume_TARGET, 0.5)\n",
    "print('Error rate upper bound:', f\"{erub_TARGET:.3e}\")\n",
    "ler_TARGET = logical_error_rate(distance,average_nb_photons,kappa_1,kappa_2)\n",
    "print('Backend logical error rate:', f\"{ler_TARGET:.3e}\")"
   ]
  },
  {
   "cell_type": "markdown",
   "id": "7295f596",
   "metadata": {},
   "source": [
    "The error rate of the backend is way lower than the upper bound, so the algorithm should succed with high probability. \n",
    "\n",
    "Let's now use a noisier backend, that is the `EMU:15Q:LOGICAL_EARLY`."
   ]
  },
  {
   "cell_type": "code",
   "execution_count": null,
   "id": "da7a5903",
   "metadata": {},
   "outputs": [],
   "source": [
    "backend = provider.get_backend(\"EMU:15Q:LOGICAL_EARLY\")"
   ]
  },
  {
   "cell_type": "code",
   "execution_count": null,
   "id": "e139c4d7",
   "metadata": {},
   "outputs": [],
   "source": [
    "# Parameters of the `EMU:15Q:LOGICAL_EARLY` backend\n",
    "distance = 13\n",
    "n_qubits = 15\n",
    "kappa_1 = 100\n",
    "kappa_2 = 100000\n",
    "average_nb_photons = 7"
   ]
  },
  {
   "cell_type": "code",
   "execution_count": null,
   "id": "f9d6e80f",
   "metadata": {},
   "outputs": [],
   "source": [
    "qc_qiskit_EARLY = qpe_res.qs.compile().to_qiskit()"
   ]
  },
  {
   "cell_type": "code",
   "execution_count": null,
   "id": "fae95a51",
   "metadata": {},
   "outputs": [],
   "source": [
    "print(\"Circuit width before transpilation:\", qc_qiskit_EARLY.width())\n",
    "print(\"Circuit depth before transpilation:\", qc_qiskit_EARLY.depth())"
   ]
  },
  {
   "cell_type": "code",
   "execution_count": null,
   "id": "eaa36a9d",
   "metadata": {},
   "outputs": [],
   "source": [
    "qc_qiskit_transpiled_EARLY = qiskit.transpile(qc_qiskit_EARLY, backend=backend)"
   ]
  },
  {
   "cell_type": "code",
   "execution_count": null,
   "id": "954e8ea8",
   "metadata": {},
   "outputs": [],
   "source": [
    "print(\"Circuit width after transpilation:\", qc_qiskit_transpiled_EARLY.width())\n",
    "print(\"Circuit depth after transpilation:\", qc_qiskit_transpiled_EARLY.depth())"
   ]
  },
  {
   "cell_type": "code",
   "execution_count": null,
   "id": "86fa6bbc",
   "metadata": {},
   "outputs": [],
   "source": [
    "q_volume_EARLY = qc_qiskit_transpiled_EARLY.depth() * (qc_qiskit_transpiled_EARLY.width())  #width * depth of the circuit\n",
    "print('Quantum volume of the transpiled circuit:', q_volume_EARLY)"
   ]
  },
  {
   "cell_type": "code",
   "execution_count": null,
   "id": "2dddf13e",
   "metadata": {},
   "outputs": [],
   "source": [
    "erub_EARLY = error_rate_upper_bound(q_volume_EARLY, 0.5)\n",
    "print('Error rate upper bound:', f\"{erub_EARLY:.3e}\")\n",
    "ler_EARLY = logical_error_rate(distance,average_nb_photons,kappa_1,kappa_2)\n",
    "print('Backend logical error rate:', f\"{ler_EARLY:.3e}\")"
   ]
  },
  {
   "cell_type": "markdown",
   "id": "4ab43ba8",
   "metadata": {},
   "source": [
    "In this case, the error rate of the backend is larger than the upper bound, which means that the algorithm is not expected to succeed at each run."
   ]
  },
  {
   "cell_type": "code",
   "execution_count": null,
   "id": "12bb1483",
   "metadata": {},
   "outputs": [],
   "source": [
    "# WARNING: The code below takes approximatively 30 minutes to run\"\n",
    "for _ in range(10):\n",
    "     print(quantum_shor(a,N))"
   ]
  },
  {
   "cell_type": "markdown",
   "id": "8303e23f",
   "metadata": {},
   "source": [
    "Let's summarize the results of the resource estimation on the `EMU:40Q:LOGICAL_TARGET` and `EMU:15Q:LOGICAL_EARLY` backends in a table:"
   ]
  },
  {
   "cell_type": "code",
   "execution_count": null,
   "id": "d2863a21",
   "metadata": {},
   "outputs": [],
   "source": [
    "import pandas as pd\n",
    "\n",
    "data = [\n",
    "    [\n",
    "        qc_qiskit_transpiled_EARLY.width(),\n",
    "        qc_qiskit_transpiled_EARLY.depth(),\n",
    "        q_volume_EARLY,\n",
    "        f\"{ler_EARLY:.3e}\",\n",
    "        f\"{erub_EARLY:.3e}\",\n",
    "    ],\n",
    "    [\n",
    "        qc_qiskit_transpiled_TARGET.width(),\n",
    "        qc_qiskit_transpiled_TARGET.depth(),\n",
    "        q_volume_TARGET,\n",
    "        f\"{ler_TARGET:.3e}\",\n",
    "        f\"{erub_TARGET:.3e}\",\n",
    "    ],\n",
    "]\n",
    "pd.DataFrame(\n",
    "    data,\n",
    "    columns=[\"Width\", \"Depth\", \"Volume\", \"Logical Error Rate\", \"Upper bound\"],\n",
    "    index=[\"EMU:40Q:LOGICAL_TARGET\", \"EMU:15Q:LOGICAL_EARLY\"],\n",
    ")"
   ]
  },
  {
   "cell_type": "markdown",
   "id": "30daf6d8",
   "metadata": {},
   "source": [
    "If you want to know more about this ground-breaking algorithm, have a glance at the following section."
   ]
  },
  {
   "cell_type": "markdown",
   "id": "602df65c",
   "metadata": {},
   "source": [
    "## Further readings:\n",
    "\n",
    "- [Shor's original paper](https://arxiv.org/abs/quant-ph/9508027)\n",
    "- [Scott Aaronson's blog post on the intuition behind Shor's algorithm](https://scottaaronson.blog/?p=208)\n",
    "- [Resource estimation for cracking the 2048-bit RSA encryption](https://arxiv.org/abs/2103.06159)\n"
   ]
  }
 ],
 "metadata": {
  "kernelspec": {
   "display_name": "Python 3 (ipykernel)",
   "language": "python",
   "name": "python3"
  },
  "language_info": {
   "codemirror_mode": {
    "name": "ipython",
    "version": 3
   },
   "file_extension": ".py",
   "mimetype": "text/x-python",
   "name": "python",
   "nbconvert_exporter": "python",
   "pygments_lexer": "ipython3",
   "version": "3.10.13"
  }
 },
 "nbformat": 4,
 "nbformat_minor": 5
}
